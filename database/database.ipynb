{
  "cells": [
    {
      "cell_type": "code",
      "execution_count": 76,
      "metadata": {
        "id": "jhhP30Q106Ca"
      },
      "outputs": [],
      "source": [
        "import pandas as pd\n",
        "import numpy as np\n",
        "import sqlite3\n",
        "pd.options.mode.chained_assignment = None"
      ]
    },
    {
      "cell_type": "markdown",
      "source": [
        "Чтобы унифицировать названия всех регионов во всех таблицах и в geojson, создадим следующий словарь:"
      ],
      "metadata": {
        "id": "VHpdULHAiusN"
      }
    },
    {
      "cell_type": "code",
      "source": [
        "region_names = {'Сумма': 'Вся Россия',\n",
        "                'ЦИК России': 'Вся Россия',\n",
        "                'Камчатская область': 'Камчатский край',\n",
        "                'Пермская область': 'Пермский край',\n",
        "                'Читинская область': 'Забайкальский край',\n",
        "                'город Москва': 'Город Москва',\n",
        "                'город Санкт-Петербург': 'Город Санкт-Петербург',\n",
        "                'город Севастополь': 'Город Севастополь',\n",
        "                'Агинский Бурятский автономный округ': 'Забайкальский край',\n",
        "                'Коми-Пермяцкий автономный округ': 'Пермский край',\n",
        "                'Корякский автономный округ': 'Камчатский край',\n",
        "                'Таймырский (Долгано-Ненецкий) автономный округ': 'Красноярский край',\n",
        "                'Усть-Ордынский Бурятский автономный округ': 'Иркутская область',\n",
        "                'Эвенкийский автономный округ': 'Красноярский край',\n",
        "                'Чувашская Республика': 'Чувашская Республика - Чувашия',\n",
        "                'Ханты-Мансийский автономный округ': 'Ханты-Мансийский автономный округ - Югра'}"
      ],
      "metadata": {
        "id": "7149msE5_VZi"
      },
      "execution_count": 77,
      "outputs": []
    },
    {
      "cell_type": "markdown",
      "source": [
        "#Президентские выборы"
      ],
      "metadata": {
        "id": "yt3JBWAG6VRb"
      }
    },
    {
      "cell_type": "markdown",
      "source": [
        "Из таблицы выборов с записями в виде регионов и столбцами в виде большого количества подробностей о явке создадим две таблицы: со статистикой по каждому кандидату в каждом регионе и со статистикой по явке в каждом регионе."
      ],
      "metadata": {
        "id": "yB0NgmVyjj42"
      }
    },
    {
      "cell_type": "code",
      "source": [
        "p_elections_2004_alldata = pd.read_csv('Результаты_выборов_президента_2004.csv', sep=';')\n",
        "p_elections_2004_alldata.head()"
      ],
      "metadata": {
        "colab": {
          "base_uri": "https://localhost:8080/",
          "height": 429
        },
        "id": "D6pd4_jaVw7P",
        "outputId": "dd88005b-fff0-46c2-fdc2-90fe476652d5"
      },
      "execution_count": 78,
      "outputs": [
        {
          "output_type": "execute_result",
          "data": {
            "text/plain": [
              "                district_name  Число избирателей, внесенных в список  \\\n",
              "0                       Сумма                              108064281   \n",
              "1  Республика Адыгея (Адыгея)                                 321051   \n",
              "2            Республика Алтай                                 140046   \n",
              "3     Республика Башкортостан                                2894559   \n",
              "4          Республика Бурятия                                 672225   \n",
              "\n",
              "   Число полученных избирательных бюллетеней  \\\n",
              "0                                  105744103   \n",
              "1                                     314778   \n",
              "2                                     135953   \n",
              "3                                    2872563   \n",
              "4                                     665607   \n",
              "\n",
              "   Число избирательных бюллетеней, выданных  досрочно  \\\n",
              "0                                             129022    \n",
              "1                                                  0    \n",
              "2                                                914    \n",
              "3                                                  0    \n",
              "4                                               2681    \n",
              "\n",
              "   Число избирательных бюллетеней, выданных в день голосования  \\\n",
              "0                                           64831236             \n",
              "1                                             226053             \n",
              "2                                              79358             \n",
              "3                                            2462023             \n",
              "4                                             408801             \n",
              "\n",
              "   Число избирательных бюллетеней, выданных вне помещения  \\\n",
              "0                                            4621172        \n",
              "1                                              17927        \n",
              "2                                               7390        \n",
              "3                                             116395        \n",
              "4                                              36441        \n",
              "\n",
              "   Число погашенных избирательных бюллетеней  \\\n",
              "0                                   36162189   \n",
              "1                                      70798   \n",
              "2                                      48291   \n",
              "3                                     294118   \n",
              "4                                     217684   \n",
              "\n",
              "   Число избирательных бюллетеней в переносных ящиках  \\\n",
              "0                                            4749595    \n",
              "1                                              17926    \n",
              "2                                               8304    \n",
              "3                                             116386    \n",
              "4                                              39121    \n",
              "\n",
              "   Число бюллетеней в стационарных ящиках для голосования  \\\n",
              "0                                           64754683        \n",
              "1                                             225862        \n",
              "2                                              79332        \n",
              "3                                            2461145        \n",
              "4                                             408640        \n",
              "\n",
              "   Число недействительных избирательных бюллетеней  ...  \\\n",
              "0                                           578847  ...   \n",
              "1                                             1747  ...   \n",
              "2                                              674  ...   \n",
              "3                                            12699  ...   \n",
              "4                                             5448  ...   \n",
              "\n",
              "   Число открепительных удостоверений, выданных в ТИК  \\\n",
              "0                                              40227    \n",
              "1                                                 70    \n",
              "2                                                 98    \n",
              "3                                                614    \n",
              "4                                                 72    \n",
              "\n",
              "   Число утраченных избирательных бюллетеней  \\\n",
              "0                                        643   \n",
              "1                                          0   \n",
              "2                                          0   \n",
              "3                                        120   \n",
              "4                                          0   \n",
              "\n",
              "   Число не учтенных при получении избирательных бюллетеней  \\\n",
              "0                                                159          \n",
              "1                                                  0          \n",
              "2                                                  0          \n",
              "3                                                 93          \n",
              "4                                                  0          \n",
              "\n",
              "   Глазьев Сергей Юрьевич  Малышкин Олег Александрович  \\\n",
              "0                 2850330                      1405396   \n",
              "1                    7319                         3593   \n",
              "2                    2974                         1213   \n",
              "3                   28603                        12748   \n",
              "4                   12812                         7234   \n",
              "\n",
              "   Миронов Сергей Михайлович  Путин Владимир Владимирович  \\\n",
              "0                     524392                     49563020   \n",
              "1                       1220                       184326   \n",
              "2                        643                        65751   \n",
              "3                       8420                      2365768   \n",
              "4                       3461                       298120   \n",
              "\n",
              "   Хакамада Ирина Муцуовна  Харитонов Николай Михайлович  Против всех  \n",
              "0                  2671519                       9514224      2396550  \n",
              "1                     3896                         35224         6463  \n",
              "2                     3074                         11812         1495  \n",
              "3                    28748                        102189        18356  \n",
              "4                    32299                         76483        11904  \n",
              "\n",
              "[5 rows x 25 columns]"
            ],
            "text/html": [
              "\n",
              "  <div id=\"df-ceeafa48-efc5-457e-84c6-64a07a6791e5\" class=\"colab-df-container\">\n",
              "    <div>\n",
              "<style scoped>\n",
              "    .dataframe tbody tr th:only-of-type {\n",
              "        vertical-align: middle;\n",
              "    }\n",
              "\n",
              "    .dataframe tbody tr th {\n",
              "        vertical-align: top;\n",
              "    }\n",
              "\n",
              "    .dataframe thead th {\n",
              "        text-align: right;\n",
              "    }\n",
              "</style>\n",
              "<table border=\"1\" class=\"dataframe\">\n",
              "  <thead>\n",
              "    <tr style=\"text-align: right;\">\n",
              "      <th></th>\n",
              "      <th>district_name</th>\n",
              "      <th>Число избирателей, внесенных в список</th>\n",
              "      <th>Число полученных избирательных бюллетеней</th>\n",
              "      <th>Число избирательных бюллетеней, выданных  досрочно</th>\n",
              "      <th>Число избирательных бюллетеней, выданных в день голосования</th>\n",
              "      <th>Число избирательных бюллетеней, выданных вне помещения</th>\n",
              "      <th>Число погашенных избирательных бюллетеней</th>\n",
              "      <th>Число избирательных бюллетеней в переносных ящиках</th>\n",
              "      <th>Число бюллетеней в стационарных ящиках для голосования</th>\n",
              "      <th>Число недействительных избирательных бюллетеней</th>\n",
              "      <th>...</th>\n",
              "      <th>Число открепительных удостоверений, выданных в ТИК</th>\n",
              "      <th>Число утраченных избирательных бюллетеней</th>\n",
              "      <th>Число не учтенных при получении избирательных бюллетеней</th>\n",
              "      <th>Глазьев Сергей Юрьевич</th>\n",
              "      <th>Малышкин Олег Александрович</th>\n",
              "      <th>Миронов Сергей Михайлович</th>\n",
              "      <th>Путин Владимир Владимирович</th>\n",
              "      <th>Хакамада Ирина Муцуовна</th>\n",
              "      <th>Харитонов Николай Михайлович</th>\n",
              "      <th>Против всех</th>\n",
              "    </tr>\n",
              "  </thead>\n",
              "  <tbody>\n",
              "    <tr>\n",
              "      <th>0</th>\n",
              "      <td>Сумма</td>\n",
              "      <td>108064281</td>\n",
              "      <td>105744103</td>\n",
              "      <td>129022</td>\n",
              "      <td>64831236</td>\n",
              "      <td>4621172</td>\n",
              "      <td>36162189</td>\n",
              "      <td>4749595</td>\n",
              "      <td>64754683</td>\n",
              "      <td>578847</td>\n",
              "      <td>...</td>\n",
              "      <td>40227</td>\n",
              "      <td>643</td>\n",
              "      <td>159</td>\n",
              "      <td>2850330</td>\n",
              "      <td>1405396</td>\n",
              "      <td>524392</td>\n",
              "      <td>49563020</td>\n",
              "      <td>2671519</td>\n",
              "      <td>9514224</td>\n",
              "      <td>2396550</td>\n",
              "    </tr>\n",
              "    <tr>\n",
              "      <th>1</th>\n",
              "      <td>Республика Адыгея (Адыгея)</td>\n",
              "      <td>321051</td>\n",
              "      <td>314778</td>\n",
              "      <td>0</td>\n",
              "      <td>226053</td>\n",
              "      <td>17927</td>\n",
              "      <td>70798</td>\n",
              "      <td>17926</td>\n",
              "      <td>225862</td>\n",
              "      <td>1747</td>\n",
              "      <td>...</td>\n",
              "      <td>70</td>\n",
              "      <td>0</td>\n",
              "      <td>0</td>\n",
              "      <td>7319</td>\n",
              "      <td>3593</td>\n",
              "      <td>1220</td>\n",
              "      <td>184326</td>\n",
              "      <td>3896</td>\n",
              "      <td>35224</td>\n",
              "      <td>6463</td>\n",
              "    </tr>\n",
              "    <tr>\n",
              "      <th>2</th>\n",
              "      <td>Республика Алтай</td>\n",
              "      <td>140046</td>\n",
              "      <td>135953</td>\n",
              "      <td>914</td>\n",
              "      <td>79358</td>\n",
              "      <td>7390</td>\n",
              "      <td>48291</td>\n",
              "      <td>8304</td>\n",
              "      <td>79332</td>\n",
              "      <td>674</td>\n",
              "      <td>...</td>\n",
              "      <td>98</td>\n",
              "      <td>0</td>\n",
              "      <td>0</td>\n",
              "      <td>2974</td>\n",
              "      <td>1213</td>\n",
              "      <td>643</td>\n",
              "      <td>65751</td>\n",
              "      <td>3074</td>\n",
              "      <td>11812</td>\n",
              "      <td>1495</td>\n",
              "    </tr>\n",
              "    <tr>\n",
              "      <th>3</th>\n",
              "      <td>Республика Башкортостан</td>\n",
              "      <td>2894559</td>\n",
              "      <td>2872563</td>\n",
              "      <td>0</td>\n",
              "      <td>2462023</td>\n",
              "      <td>116395</td>\n",
              "      <td>294118</td>\n",
              "      <td>116386</td>\n",
              "      <td>2461145</td>\n",
              "      <td>12699</td>\n",
              "      <td>...</td>\n",
              "      <td>614</td>\n",
              "      <td>120</td>\n",
              "      <td>93</td>\n",
              "      <td>28603</td>\n",
              "      <td>12748</td>\n",
              "      <td>8420</td>\n",
              "      <td>2365768</td>\n",
              "      <td>28748</td>\n",
              "      <td>102189</td>\n",
              "      <td>18356</td>\n",
              "    </tr>\n",
              "    <tr>\n",
              "      <th>4</th>\n",
              "      <td>Республика Бурятия</td>\n",
              "      <td>672225</td>\n",
              "      <td>665607</td>\n",
              "      <td>2681</td>\n",
              "      <td>408801</td>\n",
              "      <td>36441</td>\n",
              "      <td>217684</td>\n",
              "      <td>39121</td>\n",
              "      <td>408640</td>\n",
              "      <td>5448</td>\n",
              "      <td>...</td>\n",
              "      <td>72</td>\n",
              "      <td>0</td>\n",
              "      <td>0</td>\n",
              "      <td>12812</td>\n",
              "      <td>7234</td>\n",
              "      <td>3461</td>\n",
              "      <td>298120</td>\n",
              "      <td>32299</td>\n",
              "      <td>76483</td>\n",
              "      <td>11904</td>\n",
              "    </tr>\n",
              "  </tbody>\n",
              "</table>\n",
              "<p>5 rows × 25 columns</p>\n",
              "</div>\n",
              "    <div class=\"colab-df-buttons\">\n",
              "\n",
              "  <div class=\"colab-df-container\">\n",
              "    <button class=\"colab-df-convert\" onclick=\"convertToInteractive('df-ceeafa48-efc5-457e-84c6-64a07a6791e5')\"\n",
              "            title=\"Convert this dataframe to an interactive table.\"\n",
              "            style=\"display:none;\">\n",
              "\n",
              "  <svg xmlns=\"http://www.w3.org/2000/svg\" height=\"24px\" viewBox=\"0 -960 960 960\">\n",
              "    <path d=\"M120-120v-720h720v720H120Zm60-500h600v-160H180v160Zm220 220h160v-160H400v160Zm0 220h160v-160H400v160ZM180-400h160v-160H180v160Zm440 0h160v-160H620v160ZM180-180h160v-160H180v160Zm440 0h160v-160H620v160Z\"/>\n",
              "  </svg>\n",
              "    </button>\n",
              "\n",
              "  <style>\n",
              "    .colab-df-container {\n",
              "      display:flex;\n",
              "      gap: 12px;\n",
              "    }\n",
              "\n",
              "    .colab-df-convert {\n",
              "      background-color: #E8F0FE;\n",
              "      border: none;\n",
              "      border-radius: 50%;\n",
              "      cursor: pointer;\n",
              "      display: none;\n",
              "      fill: #1967D2;\n",
              "      height: 32px;\n",
              "      padding: 0 0 0 0;\n",
              "      width: 32px;\n",
              "    }\n",
              "\n",
              "    .colab-df-convert:hover {\n",
              "      background-color: #E2EBFA;\n",
              "      box-shadow: 0px 1px 2px rgba(60, 64, 67, 0.3), 0px 1px 3px 1px rgba(60, 64, 67, 0.15);\n",
              "      fill: #174EA6;\n",
              "    }\n",
              "\n",
              "    .colab-df-buttons div {\n",
              "      margin-bottom: 4px;\n",
              "    }\n",
              "\n",
              "    [theme=dark] .colab-df-convert {\n",
              "      background-color: #3B4455;\n",
              "      fill: #D2E3FC;\n",
              "    }\n",
              "\n",
              "    [theme=dark] .colab-df-convert:hover {\n",
              "      background-color: #434B5C;\n",
              "      box-shadow: 0px 1px 3px 1px rgba(0, 0, 0, 0.15);\n",
              "      filter: drop-shadow(0px 1px 2px rgba(0, 0, 0, 0.3));\n",
              "      fill: #FFFFFF;\n",
              "    }\n",
              "  </style>\n",
              "\n",
              "    <script>\n",
              "      const buttonEl =\n",
              "        document.querySelector('#df-ceeafa48-efc5-457e-84c6-64a07a6791e5 button.colab-df-convert');\n",
              "      buttonEl.style.display =\n",
              "        google.colab.kernel.accessAllowed ? 'block' : 'none';\n",
              "\n",
              "      async function convertToInteractive(key) {\n",
              "        const element = document.querySelector('#df-ceeafa48-efc5-457e-84c6-64a07a6791e5');\n",
              "        const dataTable =\n",
              "          await google.colab.kernel.invokeFunction('convertToInteractive',\n",
              "                                                    [key], {});\n",
              "        if (!dataTable) return;\n",
              "\n",
              "        const docLinkHtml = 'Like what you see? Visit the ' +\n",
              "          '<a target=\"_blank\" href=https://colab.research.google.com/notebooks/data_table.ipynb>data table notebook</a>'\n",
              "          + ' to learn more about interactive tables.';\n",
              "        element.innerHTML = '';\n",
              "        dataTable['output_type'] = 'display_data';\n",
              "        await google.colab.output.renderOutput(dataTable, element);\n",
              "        const docLink = document.createElement('div');\n",
              "        docLink.innerHTML = docLinkHtml;\n",
              "        element.appendChild(docLink);\n",
              "      }\n",
              "    </script>\n",
              "  </div>\n",
              "\n",
              "\n",
              "<div id=\"df-8bdd73cf-f4a7-45a0-832c-5681c5ec9512\">\n",
              "  <button class=\"colab-df-quickchart\" onclick=\"quickchart('df-8bdd73cf-f4a7-45a0-832c-5681c5ec9512')\"\n",
              "            title=\"Suggest charts\"\n",
              "            style=\"display:none;\">\n",
              "\n",
              "<svg xmlns=\"http://www.w3.org/2000/svg\" height=\"24px\"viewBox=\"0 0 24 24\"\n",
              "     width=\"24px\">\n",
              "    <g>\n",
              "        <path d=\"M19 3H5c-1.1 0-2 .9-2 2v14c0 1.1.9 2 2 2h14c1.1 0 2-.9 2-2V5c0-1.1-.9-2-2-2zM9 17H7v-7h2v7zm4 0h-2V7h2v10zm4 0h-2v-4h2v4z\"/>\n",
              "    </g>\n",
              "</svg>\n",
              "  </button>\n",
              "\n",
              "<style>\n",
              "  .colab-df-quickchart {\n",
              "      --bg-color: #E8F0FE;\n",
              "      --fill-color: #1967D2;\n",
              "      --hover-bg-color: #E2EBFA;\n",
              "      --hover-fill-color: #174EA6;\n",
              "      --disabled-fill-color: #AAA;\n",
              "      --disabled-bg-color: #DDD;\n",
              "  }\n",
              "\n",
              "  [theme=dark] .colab-df-quickchart {\n",
              "      --bg-color: #3B4455;\n",
              "      --fill-color: #D2E3FC;\n",
              "      --hover-bg-color: #434B5C;\n",
              "      --hover-fill-color: #FFFFFF;\n",
              "      --disabled-bg-color: #3B4455;\n",
              "      --disabled-fill-color: #666;\n",
              "  }\n",
              "\n",
              "  .colab-df-quickchart {\n",
              "    background-color: var(--bg-color);\n",
              "    border: none;\n",
              "    border-radius: 50%;\n",
              "    cursor: pointer;\n",
              "    display: none;\n",
              "    fill: var(--fill-color);\n",
              "    height: 32px;\n",
              "    padding: 0;\n",
              "    width: 32px;\n",
              "  }\n",
              "\n",
              "  .colab-df-quickchart:hover {\n",
              "    background-color: var(--hover-bg-color);\n",
              "    box-shadow: 0 1px 2px rgba(60, 64, 67, 0.3), 0 1px 3px 1px rgba(60, 64, 67, 0.15);\n",
              "    fill: var(--button-hover-fill-color);\n",
              "  }\n",
              "\n",
              "  .colab-df-quickchart-complete:disabled,\n",
              "  .colab-df-quickchart-complete:disabled:hover {\n",
              "    background-color: var(--disabled-bg-color);\n",
              "    fill: var(--disabled-fill-color);\n",
              "    box-shadow: none;\n",
              "  }\n",
              "\n",
              "  .colab-df-spinner {\n",
              "    border: 2px solid var(--fill-color);\n",
              "    border-color: transparent;\n",
              "    border-bottom-color: var(--fill-color);\n",
              "    animation:\n",
              "      spin 1s steps(1) infinite;\n",
              "  }\n",
              "\n",
              "  @keyframes spin {\n",
              "    0% {\n",
              "      border-color: transparent;\n",
              "      border-bottom-color: var(--fill-color);\n",
              "      border-left-color: var(--fill-color);\n",
              "    }\n",
              "    20% {\n",
              "      border-color: transparent;\n",
              "      border-left-color: var(--fill-color);\n",
              "      border-top-color: var(--fill-color);\n",
              "    }\n",
              "    30% {\n",
              "      border-color: transparent;\n",
              "      border-left-color: var(--fill-color);\n",
              "      border-top-color: var(--fill-color);\n",
              "      border-right-color: var(--fill-color);\n",
              "    }\n",
              "    40% {\n",
              "      border-color: transparent;\n",
              "      border-right-color: var(--fill-color);\n",
              "      border-top-color: var(--fill-color);\n",
              "    }\n",
              "    60% {\n",
              "      border-color: transparent;\n",
              "      border-right-color: var(--fill-color);\n",
              "    }\n",
              "    80% {\n",
              "      border-color: transparent;\n",
              "      border-right-color: var(--fill-color);\n",
              "      border-bottom-color: var(--fill-color);\n",
              "    }\n",
              "    90% {\n",
              "      border-color: transparent;\n",
              "      border-bottom-color: var(--fill-color);\n",
              "    }\n",
              "  }\n",
              "</style>\n",
              "\n",
              "  <script>\n",
              "    async function quickchart(key) {\n",
              "      const quickchartButtonEl =\n",
              "        document.querySelector('#' + key + ' button');\n",
              "      quickchartButtonEl.disabled = true;  // To prevent multiple clicks.\n",
              "      quickchartButtonEl.classList.add('colab-df-spinner');\n",
              "      try {\n",
              "        const charts = await google.colab.kernel.invokeFunction(\n",
              "            'suggestCharts', [key], {});\n",
              "      } catch (error) {\n",
              "        console.error('Error during call to suggestCharts:', error);\n",
              "      }\n",
              "      quickchartButtonEl.classList.remove('colab-df-spinner');\n",
              "      quickchartButtonEl.classList.add('colab-df-quickchart-complete');\n",
              "    }\n",
              "    (() => {\n",
              "      let quickchartButtonEl =\n",
              "        document.querySelector('#df-8bdd73cf-f4a7-45a0-832c-5681c5ec9512 button');\n",
              "      quickchartButtonEl.style.display =\n",
              "        google.colab.kernel.accessAllowed ? 'block' : 'none';\n",
              "    })();\n",
              "  </script>\n",
              "</div>\n",
              "    </div>\n",
              "  </div>\n"
            ]
          },
          "metadata": {},
          "execution_count": 78
        }
      ]
    },
    {
      "cell_type": "code",
      "execution_count": 79,
      "metadata": {
        "id": "DjD7_KQH4oqD"
      },
      "outputs": [],
      "source": [
        "p_elections_2004_alldata['district_name'] = p_elections_2004_alldata['district_name'].map(\n",
        "    lambda x: region_names[x.strip()] if x.strip() in region_names else x.strip())\n",
        "p_elections_2004_alldata = p_elections_2004_alldata.groupby('district_name', as_index=False).sum()\n",
        "\n",
        "p_elections_2004_region = p_elections_2004_alldata.iloc[:, [0, 1]]\n",
        "p_elections_2004_region.columns = ['region', 'voters']\n",
        "p_elections_2004_region['came'] = p_elections_2004_alldata.iloc[:, 3] + p_elections_2004_alldata.iloc[:,\n",
        "                                                                        4] + p_elections_2004_alldata.iloc[:, 5]\n",
        "p_elections_2004_region['voted'] = p_elections_2004_alldata.iloc[:, 9] + p_elections_2004_alldata.iloc[:, 10]\n",
        "p_elections_2004_region['year'] = 2004\n",
        "\n",
        "p_elections_2004_candidate = pd.DataFrame(\n",
        "    {'region': [], 'candidate': [], 'votes': np.array([]).astype(int), 'year': np.array([]).astype(int)})\n",
        "for column in p_elections_2004_alldata.columns[-7:]:\n",
        "    p_elections_2004_candidate = pd.concat([p_elections_2004_candidate, pd.DataFrame(\n",
        "        {'region': p_elections_2004_alldata['district_name'], 'candidate': [column] * len(p_elections_2004_alldata),\n",
        "         'votes': p_elections_2004_alldata[column], 'year': [2004] * len(p_elections_2004_alldata)})])"
      ]
    },
    {
      "cell_type": "markdown",
      "source": [
        "Аналогично для 2008."
      ],
      "metadata": {
        "id": "M47gXXOMj-HW"
      }
    },
    {
      "cell_type": "code",
      "execution_count": 80,
      "metadata": {
        "id": "5bWshLyhTOXE"
      },
      "outputs": [],
      "source": [
        "p_elections_2008_alldata = pd.read_csv('Результаты_выборов_президента_2008.csv', sep=';')\n",
        "p_elections_2008_alldata['district_name'] = p_elections_2008_alldata['district_name'].map(\n",
        "    lambda x: region_names[x.strip()] if x.strip() in region_names else x.strip())\n",
        "p_elections_2008_alldata = p_elections_2008_alldata.groupby('district_name', as_index=False).sum()\n",
        "\n",
        "p_elections_2008_region = p_elections_2008_alldata.iloc[:, [0, 1]]\n",
        "p_elections_2008_region.columns = ['region', 'voters']\n",
        "p_elections_2008_region['came'] = p_elections_2008_alldata.iloc[:, 3] + p_elections_2008_alldata.iloc[:,\n",
        "                                                                        4] + p_elections_2008_alldata.iloc[:, 5]\n",
        "p_elections_2008_region['voted'] = p_elections_2008_alldata.iloc[:, 9] + p_elections_2008_alldata.iloc[:, 10]\n",
        "p_elections_2008_region['year'] = 2008\n",
        "\n",
        "p_elections_2008_candidate = pd.DataFrame(\n",
        "    {'region': [], 'candidate': [], 'votes': np.array([]).astype(int), 'year': np.array([]).astype(int)})\n",
        "for column in p_elections_2008_alldata.columns[-4:]:\n",
        "    p_elections_2008_candidate = pd.concat([p_elections_2008_candidate, pd.DataFrame(\n",
        "        {'region': p_elections_2008_alldata['district_name'], 'candidate': [column] * len(p_elections_2008_alldata),\n",
        "         'votes': p_elections_2008_alldata[column], 'year': [2008] * len(p_elections_2008_alldata)})])"
      ]
    },
    {
      "cell_type": "markdown",
      "source": [
        "Аналогично для 2012."
      ],
      "metadata": {
        "id": "Tby_fr0ckCEk"
      }
    },
    {
      "cell_type": "code",
      "execution_count": 81,
      "metadata": {
        "id": "WRLJ9ywE08CR"
      },
      "outputs": [],
      "source": [
        "p_elections_2012_alldata = pd.read_csv('Результаты_выборов_президента_2012.csv', sep=';')\n",
        "p_elections_2012_alldata['district name'] = p_elections_2012_alldata['district name'].map(\n",
        "    lambda x: region_names[x.strip()] if x.strip() in region_names else x.strip())\n",
        "p_elections_2012_alldata = p_elections_2012_alldata.groupby('district name', as_index=False).sum()\n",
        "\n",
        "p_elections_2012_region = p_elections_2012_alldata.iloc[:, [0, 2]]\n",
        "p_elections_2012_region.columns = ['region', 'voters']\n",
        "p_elections_2012_region['came'] = p_elections_2012_alldata.iloc[:, 4] + p_elections_2012_alldata.iloc[:,\n",
        "                                                                        5] + p_elections_2012_alldata.iloc[:, 6]\n",
        "p_elections_2012_region['voted'] = p_elections_2012_alldata.iloc[:, 10] + p_elections_2012_alldata.iloc[:, 11]\n",
        "p_elections_2012_region['year'] = 2012\n",
        "\n",
        "p_elections_2012_candidate = pd.DataFrame(\n",
        "    {'region': [], 'candidate': [], 'votes': np.array([]).astype(int), 'year': np.array([]).astype(int)})\n",
        "for column in p_elections_2012_alldata.columns[-5:]:\n",
        "    p_elections_2012_candidate = pd.concat([p_elections_2012_candidate, pd.DataFrame(\n",
        "        {'region': p_elections_2012_alldata['district name'], 'candidate': [column] * len(p_elections_2012_alldata),\n",
        "         'votes': p_elections_2012_alldata[column], 'year': [2012] * len(p_elections_2012_alldata)})])"
      ]
    },
    {
      "cell_type": "markdown",
      "source": [
        "Аналогично для 2018."
      ],
      "metadata": {
        "id": "GZhqzaPBkEIT"
      }
    },
    {
      "cell_type": "code",
      "execution_count": 82,
      "metadata": {
        "id": "_j0Am3M45qip"
      },
      "outputs": [],
      "source": [
        "p_elections_2018_alldata = pd.read_csv('Результаты_выборов_президента_2018.csv', sep=';')\n",
        "p_elections_2018_alldata['district name'] = p_elections_2018_alldata['district name'].map(\n",
        "    lambda x: region_names[x.strip()] if x.strip() in region_names else x.strip())\n",
        "p_elections_2018_alldata = p_elections_2018_alldata.groupby('district name', as_index=False).sum()\n",
        "\n",
        "p_elections_2018_region = p_elections_2018_alldata.iloc[:, [0, 2]]\n",
        "p_elections_2018_region.columns = ['region', 'voters']\n",
        "p_elections_2018_region['came'] = p_elections_2018_alldata.iloc[:, 4] + p_elections_2018_alldata.iloc[:,\n",
        "                                                                        5] + p_elections_2018_alldata.iloc[:, 6]\n",
        "p_elections_2018_region['voted'] = p_elections_2018_alldata.iloc[:, 10] + p_elections_2018_alldata.iloc[:, 11]\n",
        "p_elections_2018_region['year'] = 2018\n",
        "\n",
        "p_elections_2018_candidate = pd.DataFrame(\n",
        "    {'region': [], 'candidate': [], 'votes': np.array([]).astype(int), 'year': np.array([]).astype(int)})\n",
        "for column in p_elections_2018_alldata.columns[-8:]:\n",
        "    p_elections_2018_candidate = pd.concat([p_elections_2018_candidate, pd.DataFrame(\n",
        "        {'region': p_elections_2018_alldata['district name'], 'candidate': [column] * len(p_elections_2018_alldata),\n",
        "         'votes': p_elections_2018_alldata[column], 'year': [2018] * len(p_elections_2018_alldata)})])"
      ]
    },
    {
      "cell_type": "markdown",
      "source": [
        "Соединим получившиеся таблицы в две большие таблицы с информацией о всех доступных нам президентских выборах."
      ],
      "metadata": {
        "id": "eXWtAf5XkGrr"
      }
    },
    {
      "cell_type": "code",
      "execution_count": 83,
      "metadata": {
        "id": "-KO54x9r-tMU"
      },
      "outputs": [],
      "source": [
        "p_elections_candidate = pd.concat(\n",
        "    [p_elections_2004_candidate, p_elections_2008_candidate, p_elections_2012_candidate, p_elections_2018_candidate])\n",
        "p_elections_region = pd.concat(\n",
        "    [p_elections_2004_region, p_elections_2008_region, p_elections_2012_region, p_elections_2018_region])"
      ]
    },
    {
      "cell_type": "markdown",
      "source": [
        "#Выборы в Госдуму"
      ],
      "metadata": {
        "id": "6sJ30ln3-maf"
      }
    },
    {
      "cell_type": "markdown",
      "source": [
        "Чтобы унифицировать названия всех партий, которые почему-то на каждых выборах записываются немного иначе, создадим следующий словарь:"
      ],
      "metadata": {
        "id": "VHYpUg9ckP6x"
      }
    },
    {
      "cell_type": "code",
      "source": [
        "parties = {\n",
        "    '1. \"ЕДИНЕНИЕ\"': 'Единение',\n",
        "    '2. \"СОЮЗ ПРАВЫХ СИЛ\"': 'Союз правых сил',\n",
        "    '3. \"РОССИЙСКАЯ ПАРТИЯ ПЕНСИОНЕРОВ И ПАРТИЯ СОЦИАЛЬНОЙ СПРАВЕДЛИВОСТИ\"': 'Блок \"Российская партия пенсионеров и Партия социальной справедливости\"',\n",
        "    '4. \"Российская демократическая партия \"ЯБЛОКО\"': 'Яблоко',\n",
        "    '5. \"За Русь Святую\"': 'За Русь Святую',\n",
        "    '6. \"Объединенная Российская партия \"Русь\"': 'Русь',\n",
        "    '7. \"Новый курс - Автомобильная Россия\"': 'Блок \"Новый курс - Автомобильная Россия\"',\n",
        "    '8. \"Народно-республиканская партия России\"': 'Народно-республиканская партия России',\n",
        "    '9. \"Российская экологическая партия \"Зеленые\"': 'Зеленые',\n",
        "    '10. \"Аграрная партия России\"': 'Аграрная партия России',\n",
        "    '11. \"Истинные патриоты России\"': 'Истинные патриоты России',\n",
        "    '12. \"НАРОДНАЯ ПАРТИЯ Российской Федерации\"': 'Народная партия России',\n",
        "    '13. \"Демократическая партия России\"': 'Демократическая партия России',\n",
        "    '14. \"Великая Россия - Евразийский Союз\"': 'Блок \"Великая Россия - Евразийский Союз\"',\n",
        "    '15. \"Партия СЛОН\"': 'Партия СЛОН',\n",
        "    '16. \"Родина\" (народно-патриотический союз)\"': 'Блок \"Родина\"',\n",
        "    '17. \"Партия Мира и Единства (ПМЕ)\"': 'Партия Мира и Единства',\n",
        "    '18. \"ЛДПР\"': 'ЛДПР',\n",
        "    '19. \"Партия Возрождения России - Российская партия ЖИЗНИ\"': 'Блок \"Партия возрождения России - Российская партия жизни\"',\n",
        "    '20. \"Политическая партия \"Единая Россия\"': 'Единая Россия',\n",
        "    '21. \"Российская Конституционно-демократическая партия\"': 'Российская Конституционно-демократическая партия',\n",
        "    '22. \"Развитие предпринимательства\"': 'Развитие предпринимательства',\n",
        "    '23. \"Коммунистическая партия Российской Федерации (КПРФ)\"': 'КПРФ',\n",
        "    'Против всех': 'Против всех',\n",
        "    '1.Политическая партия «Аграрная партия России»': 'Аграрная партия России',\n",
        "    '2.Всероссийская политическая партия «Гражданская Сила»': 'Гражданская Сила',\n",
        "    '3.Политическая партия «Демократическая партия России»': 'Демократическая партия России',\n",
        "    '4.Политическая партия «Коммунистическая партия Российской Федерации»': 'КПРФ',\n",
        "    '5.Политическая партия «СОЮЗ ПРАВЫХ СИЛ»': 'Союз правых сил',\n",
        "    '6.Политическая партия «Партия социальной справедливости»': 'Партия социальной справедливости',\n",
        "    '7.Политическая партия «Либерально-демократическая партия России»': 'ЛДПР',\n",
        "    '8.Политическая партия «СПРАВЕДЛИВАЯ РОССИЯ: РОДИНА/ПЕНСИОНЕРЫ/ЖИЗНЬ»': 'Справедливая Россия',\n",
        "    '9.Политическая партия «ПАТРИОТЫ РОССИИ»': 'Патриоты России',\n",
        "    '10.Всероссийская политическая партия «ЕДИНАЯ РОССИЯ»': 'Единая Россия',\n",
        "    '11.Политическая партия «Российская объединенная демократическая партия «ЯБЛОКО»': 'Яблоко',\n",
        "    '1. Политическая партия СПРАВЕДЛИВАЯ РОССИЯ': 'Справедливая Россия',\n",
        "    '2. Политическая партия \"Либерально-демократическая партия России\"': 'ЛДПР',\n",
        "    '3. Политическая партия \"ПАТРИОТЫ РОССИИ\" ': 'Патриоты России',\n",
        "    '4. Политическая партия \"Коммунистическая партия Российской Федерации\"': 'КПРФ',\n",
        "    '5. Политическая партия \"Российская объединенная демократическая партия \"ЯБЛОКО\"': 'Яблоко',\n",
        "    '6. Всероссийская политическая партия \"ЕДИНАЯ РОССИЯ\"': 'Единая Россия',\n",
        "    '7. Всероссийская политическая партия \"ПРАВОЕ ДЕЛО\"': 'Правое дело',\n",
        "    }"
      ],
      "metadata": {
        "id": "NngufQdzQCkB"
      },
      "execution_count": 84,
      "outputs": []
    },
    {
      "cell_type": "markdown",
      "source": [
        "Так как внутри некоторых регионов есть отдельные избирательные округа со своими названиями, идущими после названия региона, напишем небольшую функцию, которая будет оставлять только название региона."
      ],
      "metadata": {
        "id": "MX2pILMrPjjM"
      }
    },
    {
      "cell_type": "code",
      "source": [
        "def region_name_edit(region):\n",
        "    for i in range(len(region) - 2):\n",
        "        if region[i + 1] == ' ' and region[i + 2] == '-':\n",
        "            return region[:i + 1]\n",
        "    return region"
      ],
      "metadata": {
        "id": "uSCED6XfRFp6"
      },
      "execution_count": 85,
      "outputs": []
    },
    {
      "cell_type": "markdown",
      "source": [
        "Проделаем все аналогичные манипуляции и с выборами в Госдуму"
      ],
      "metadata": {
        "id": "LoFL5VmJPg2t"
      }
    },
    {
      "cell_type": "code",
      "source": [
        "gd_elections_2003_alldata = pd.read_csv('Результаты_выборов_депутатов_по_фед_2003.csv', sep=';')\n",
        "gd_elections_2003_alldata['district_name'] = gd_elections_2003_alldata['district_name'].map(lambda x: region_name_edit(x))\n",
        "gd_elections_2003_alldata['district_name'] = gd_elections_2003_alldata['district_name'].map(\n",
        "    lambda x: region_names[x.strip()] if x.strip() in region_names else x.strip())\n",
        "gd_elections_2003_alldata = gd_elections_2003_alldata.groupby('district_name', as_index=False).sum()\n",
        "\n",
        "gd_elections_2003_region = gd_elections_2003_alldata.iloc[:, [0, 1]]\n",
        "gd_elections_2003_region.columns = ['region', 'voters']\n",
        "gd_elections_2003_region['came'] = gd_elections_2003_alldata.iloc[:, 3] + gd_elections_2003_alldata.iloc[:,\n",
        "                                                                        4] + gd_elections_2003_alldata.iloc[:, 5]\n",
        "gd_elections_2003_region['voted'] = gd_elections_2003_alldata.iloc[:, 9] + gd_elections_2003_alldata.iloc[:, 10]\n",
        "gd_elections_2003_region['year'] = 2003\n",
        "\n",
        "gd_elections_2003_candidate = pd.DataFrame(\n",
        "    {'region': [], 'candidate': [], 'votes': np.array([]).astype(int), 'year': np.array([]).astype(int)})\n",
        "for column in gd_elections_2003_alldata.columns[-24:]:\n",
        "    gd_elections_2003_candidate = pd.concat([gd_elections_2003_candidate, pd.DataFrame(\n",
        "        {'region': gd_elections_2003_alldata['district_name'], 'candidate': [parties[column]] * len(gd_elections_2003_alldata),\n",
        "         'votes': gd_elections_2003_alldata[column], 'year': [2003] * len(gd_elections_2003_alldata)})])"
      ],
      "metadata": {
        "id": "4SnLepy6-r0j"
      },
      "execution_count": 86,
      "outputs": []
    },
    {
      "cell_type": "code",
      "source": [
        "gd_elections_2007_alldata = pd.read_csv('Результаты_выборов_депутатов_по_фед_2007.csv', sep=';')\n",
        "gd_elections_2007_alldata['district_name'] = gd_elections_2007_alldata['district_name'].map(lambda x: region_name_edit(x))\n",
        "gd_elections_2007_alldata['district_name'] = gd_elections_2007_alldata['district_name'].map(\n",
        "    lambda x: region_names[x.strip()] if x.strip() in region_names else x.strip())\n",
        "gd_elections_2007_alldata = gd_elections_2007_alldata.groupby('district_name', as_index=False).sum()\n",
        "\n",
        "gd_elections_2007_region = gd_elections_2007_alldata.iloc[:, [0, 1]]\n",
        "gd_elections_2007_region.columns = ['region', 'voters']\n",
        "gd_elections_2007_region['came'] = gd_elections_2007_alldata.iloc[:, 3] + gd_elections_2007_alldata.iloc[:,\n",
        "                                                                        4] + gd_elections_2007_alldata.iloc[:, 5]\n",
        "gd_elections_2007_region['voted'] = gd_elections_2007_alldata.iloc[:, 9] + gd_elections_2007_alldata.iloc[:, 10]\n",
        "gd_elections_2007_region['year'] = 2007\n",
        "\n",
        "gd_elections_2007_candidate = pd.DataFrame(\n",
        "    {'region': [], 'candidate': [], 'votes': np.array([]).astype(int), 'year': np.array([]).astype(int)})\n",
        "for column in gd_elections_2007_alldata.columns[-11:]:\n",
        "    gd_elections_2007_candidate = pd.concat([gd_elections_2007_candidate, pd.DataFrame(\n",
        "        {'region': gd_elections_2007_alldata['district_name'], 'candidate': [parties[column]] * len(gd_elections_2007_alldata),\n",
        "         'votes': gd_elections_2007_alldata[column], 'year': [2007] * len(gd_elections_2007_alldata)})])"
      ],
      "metadata": {
        "id": "CGfWHC2pQ83i"
      },
      "execution_count": 87,
      "outputs": []
    },
    {
      "cell_type": "code",
      "source": [
        "gd_elections_2011_alldata = pd.read_csv('Результаты выборов в думу 2011.csv', sep=';')\n",
        "gd_elections_2011_alldata['name'] = gd_elections_2011_alldata['name'].map(lambda x: region_name_edit(x))\n",
        "gd_elections_2011_alldata['name'] = gd_elections_2011_alldata['name'].map(\n",
        "    lambda x: region_names[x.strip()] if x.strip() in region_names else x.strip())\n",
        "gd_elections_2011_alldata = gd_elections_2011_alldata.groupby('name', as_index=False).sum()\n",
        "\n",
        "gd_elections_2011_region = gd_elections_2011_alldata.iloc[:, [0, 1]]\n",
        "gd_elections_2011_region.columns = ['region', 'voters']\n",
        "gd_elections_2011_region['came'] = gd_elections_2011_alldata.iloc[:, 3] + gd_elections_2011_alldata.iloc[:,\n",
        "                                                                        4] + gd_elections_2011_alldata.iloc[:, 5]\n",
        "gd_elections_2011_region['voted'] = gd_elections_2011_alldata.iloc[:, 9] + gd_elections_2011_alldata.iloc[:, 10]\n",
        "gd_elections_2011_region['year'] = 2011\n",
        "\n",
        "gd_elections_2011_candidate = pd.DataFrame(\n",
        "    {'region': [], 'candidate': [], 'votes': np.array([]).astype(int), 'year': np.array([]).astype(int)})\n",
        "for column in gd_elections_2011_alldata.columns[-7:]:\n",
        "    gd_elections_2011_candidate = pd.concat([gd_elections_2011_candidate, pd.DataFrame(\n",
        "        {'region': gd_elections_2011_alldata['name'], 'candidate': [parties[column]] * len(gd_elections_2011_alldata),\n",
        "         'votes': gd_elections_2011_alldata[column], 'year': [2011] * len(gd_elections_2011_alldata)})])"
      ],
      "metadata": {
        "id": "RNY0ob0XR1F4"
      },
      "execution_count": 88,
      "outputs": []
    },
    {
      "cell_type": "markdown",
      "source": [
        "Соединим получившиеся таблицы в две большие таблицы с информацией о всех доступных нам депутатских выборах."
      ],
      "metadata": {
        "id": "VrTwfKoyRVd3"
      }
    },
    {
      "cell_type": "code",
      "source": [
        "gd_elections_candidate = pd.concat(\n",
        "    [gd_elections_2003_candidate, gd_elections_2007_candidate, gd_elections_2011_candidate])\n",
        "gd_elections_region = pd.concat(\n",
        "    [gd_elections_2003_region, gd_elections_2007_region, gd_elections_2011_region])"
      ],
      "metadata": {
        "id": "ZZHIJfZ5V84l"
      },
      "execution_count": 89,
      "outputs": []
    },
    {
      "cell_type": "markdown",
      "source": [
        "#Создание базы данных"
      ],
      "metadata": {
        "id": "KtNL9BuS78hp"
      }
    },
    {
      "cell_type": "markdown",
      "source": [
        "Создадим базу данных elections.db"
      ],
      "metadata": {
        "id": "U9SiaGr1RbqQ"
      }
    },
    {
      "cell_type": "code",
      "execution_count": 90,
      "metadata": {
        "id": "V0tcU8u1GH8v"
      },
      "outputs": [],
      "source": [
        "connection = sqlite3.connect(\"elections.db\")\n",
        "cursor = connection.cursor()"
      ]
    },
    {
      "cell_type": "markdown",
      "source": [
        "Добавим в БД таблицу с названиями регионов и их id."
      ],
      "metadata": {
        "id": "RdnbX19YRfMH"
      }
    },
    {
      "cell_type": "code",
      "execution_count": 91,
      "metadata": {
        "id": "XqOBAfp2UzI3"
      },
      "outputs": [],
      "source": [
        "cursor.execute(\"\"\"\n",
        "CREATE TABLE region(region_id INTEGER PRIMARY KEY AUTOINCREMENT, region_name VARCHAR(100))\n",
        "\"\"\")\n",
        "for r in pd.concat([p_elections_region, gd_elections_region])['region'].unique():\n",
        "    cursor.execute(f\"\"\"\n",
        "    INSERT INTO region(region_name)\n",
        "    VALUES ('{r}')\n",
        "    \"\"\")"
      ]
    },
    {
      "cell_type": "markdown",
      "source": [
        "Добавим в БД таблицу с именами кандидатов в президенты и их id."
      ],
      "metadata": {
        "id": "TVFkfRqlRtlf"
      }
    },
    {
      "cell_type": "code",
      "execution_count": 92,
      "metadata": {
        "id": "i2tZflVEYcKD"
      },
      "outputs": [],
      "source": [
        "cursor.execute(\"\"\"\n",
        "CREATE TABLE p_candidate(candidate_id INTEGER PRIMARY KEY AUTOINCREMENT, candidate_name VARCHAR(100))\n",
        "\"\"\")\n",
        "for c in p_elections_candidate['candidate'].unique():\n",
        "    cursor.execute(f\"\"\"\n",
        "    INSERT INTO p_candidate(candidate_name)\n",
        "    VALUES ('{c}')\n",
        "    \"\"\")"
      ]
    },
    {
      "cell_type": "markdown",
      "source": [
        "Добавим в БД таблицу с названиями партий-кандидатов в Госдуму и их id."
      ],
      "metadata": {
        "id": "owA7K3meSZsx"
      }
    },
    {
      "cell_type": "code",
      "source": [
        "cursor.execute(\"\"\"\n",
        "CREATE TABLE gd_candidate(candidate_id INTEGER PRIMARY KEY AUTOINCREMENT, candidate_name VARCHAR(100))\n",
        "\"\"\")\n",
        "for c in gd_elections_candidate['candidate'].unique():\n",
        "    cursor.execute(f\"\"\"\n",
        "    INSERT INTO gd_candidate(candidate_name)\n",
        "    VALUES ('{c}')\n",
        "    \"\"\")"
      ],
      "metadata": {
        "id": "GbXK6EsvYAKm"
      },
      "execution_count": 93,
      "outputs": []
    },
    {
      "cell_type": "markdown",
      "source": [
        "Добавим в БД таблицу с результатами всех кандидатов в президенты на всех выборах во всех регионах."
      ],
      "metadata": {
        "id": "V5SCNywzSqwE"
      }
    },
    {
      "cell_type": "code",
      "execution_count": 94,
      "metadata": {
        "id": "mQksS4yIGM2W"
      },
      "outputs": [],
      "source": [
        "cursor.execute(\"\"\"\n",
        "CREATE TABLE president_elections_cand(id INTEGER PRIMARY KEY AUTOINCREMENT, region_id INT, candidate_id INT, votes INT, year INT, FOREIGN KEY (region_id)  REFERENCES region (region_id) ON DELETE CASCADE, FOREIGN KEY (candidate_id)  REFERENCES p_candidate (candidate_id) ON DELETE CASCADE)\n",
        "\"\"\")\n",
        "for i in range(len(p_elections_candidate)):\n",
        "    cursor.execute(f\"\"\"\n",
        "    INSERT INTO president_elections_cand(region_id, candidate_id, votes, year)\n",
        "    VALUES ((SELECT region_id FROM region WHERE region_name = '{p_elections_candidate.iloc[i]['region']}'), (SELECT candidate_id FROM p_candidate WHERE candidate_name = '{p_elections_candidate.iloc[i]['candidate']}'), {p_elections_candidate.iloc[i]['votes']}, {p_elections_candidate.iloc[i]['year']})\n",
        "    \"\"\")"
      ]
    },
    {
      "cell_type": "markdown",
      "source": [
        "Добавим в БД таблицу с результатами всех партий-кандидатов в Госдуму на всех выборах во всех регионах."
      ],
      "metadata": {
        "id": "C-ICz0ssS3x9"
      }
    },
    {
      "cell_type": "code",
      "source": [
        "cursor.execute(\"\"\"\n",
        "CREATE TABLE gd_elections_cand(id INTEGER PRIMARY KEY AUTOINCREMENT, region_id INT, candidate_id INT, votes INT, year INT, FOREIGN KEY (region_id)  REFERENCES region (region_id) ON DELETE CASCADE, FOREIGN KEY (candidate_id)  REFERENCES gd_candidate (candidate_id) ON DELETE CASCADE)\n",
        "\"\"\")\n",
        "for i in range(len(gd_elections_candidate)):\n",
        "    cursor.execute(f\"\"\"\n",
        "    INSERT INTO gd_elections_cand(region_id, candidate_id, votes, year)\n",
        "    VALUES ((SELECT region_id FROM region WHERE region_name = '{gd_elections_candidate.iloc[i]['region']}'), (SELECT candidate_id FROM gd_candidate WHERE candidate_name = '{gd_elections_candidate.iloc[i]['candidate']}'), {gd_elections_candidate.iloc[i]['votes']}, {gd_elections_candidate.iloc[i]['year']})\n",
        "    \"\"\")"
      ],
      "metadata": {
        "id": "ow-dC2ngYP-A"
      },
      "execution_count": 95,
      "outputs": []
    },
    {
      "cell_type": "markdown",
      "source": [
        "Добавим в БД таблицу с информацией о явке на президентских выборах во всех регионах за все годы."
      ],
      "metadata": {
        "id": "eEO76WEPTPLr"
      }
    },
    {
      "cell_type": "code",
      "execution_count": 96,
      "metadata": {
        "id": "-KDF6N-KUG1u"
      },
      "outputs": [],
      "source": [
        "cursor.execute(\"\"\"\n",
        "CREATE TABLE president_elections_region(id INTEGER PRIMARY KEY, region_id INT, voters INT, came INT, voted INT, year INT, FOREIGN KEY (region_id)  REFERENCES region (region_id) ON DELETE CASCADE)\n",
        "\"\"\")\n",
        "for i in range(len(p_elections_region)):\n",
        "    cursor.execute(f\"\"\"\n",
        "    INSERT INTO president_elections_region(region_id, voters, came, voted, year)\n",
        "    VALUES ((SELECT region_id FROM region WHERE region_name = '{p_elections_region.iloc[i]['region']}'), {p_elections_region.iloc[i]['voters']},  {p_elections_region.iloc[i]['came']},  {p_elections_region.iloc[i]['voted']},  {p_elections_region.iloc[i]['year']})\n",
        "    \"\"\")"
      ]
    },
    {
      "cell_type": "markdown",
      "source": [
        "Добавим в БД таблицу с информацией о явке на выборах в Госдуму во всех регионах за все годы."
      ],
      "metadata": {
        "id": "xRFrLXjqTqVw"
      }
    },
    {
      "cell_type": "code",
      "source": [
        "cursor.execute(\"\"\"\n",
        "CREATE TABLE gd_elections_region(id INTEGER PRIMARY KEY, region_id INT, voters INT, came INT, voted INT, year INT, FOREIGN KEY (region_id)  REFERENCES region (region_id) ON DELETE CASCADE)\n",
        "\"\"\")\n",
        "for i in range(len(gd_elections_region)):\n",
        "    cursor.execute(f\"\"\"\n",
        "    INSERT INTO gd_elections_region(region_id, voters, came, voted, year)\n",
        "    VALUES ((SELECT region_id FROM region WHERE region_name = '{gd_elections_region.iloc[i]['region']}'), {gd_elections_region.iloc[i]['voters']},  {gd_elections_region.iloc[i]['came']},  {gd_elections_region.iloc[i]['voted']},  {gd_elections_region.iloc[i]['year']})\n",
        "    \"\"\")"
      ],
      "metadata": {
        "id": "nEf0gC9dZIOO"
      },
      "execution_count": 97,
      "outputs": []
    },
    {
      "cell_type": "markdown",
      "source": [
        "Закоммитим изменения."
      ],
      "metadata": {
        "id": "7mUpzUwqTtzi"
      }
    },
    {
      "cell_type": "code",
      "execution_count": 98,
      "metadata": {
        "id": "nGeLFdie4AbE"
      },
      "outputs": [],
      "source": [
        "connection.commit()"
      ]
    },
    {
      "cell_type": "markdown",
      "source": [
        "#JSON для карты России"
      ],
      "metadata": {
        "id": "UKn_1fFKcXlz"
      }
    },
    {
      "cell_type": "code",
      "source": [
        "import json\n",
        "import pandas as pd\n",
        "import plotly as plt\n",
        "import plotly.express as px\n",
        "from urllib.request import urlopen"
      ],
      "metadata": {
        "id": "cpTPC7maeEZA"
      },
      "execution_count": 99,
      "outputs": []
    },
    {
      "cell_type": "markdown",
      "source": [
        "Скачаем geojson с картой регионов России, после чего изменим названия регионов в соответствии с их названиями в нашей БД и присвоим им внутри geojson id соответствующие region_id из таблицы region."
      ],
      "metadata": {
        "id": "6LvpCEM-Tw4h"
      }
    },
    {
      "cell_type": "code",
      "source": [
        "with urlopen('https://raw.githubusercontent.com/codeforamerica/click_that_hood/master/public/data/russia.geojson') as response:\n",
        "    counties = json.load(response)\n",
        "\n",
        "regions_republic_1 = ['Бурятия', 'Тыва', 'Адыгея', 'Татарстан', 'Марий Эл',\n",
        "                      'Чувашия', 'Северная Осетия - Алания', 'Алтай',\n",
        "                      'Дагестан', 'Ингушетия', 'Башкортостан']\n",
        "regions_republic_2 = ['Удмуртская республика', 'Кабардино-Балкарская республика',\n",
        "                      'Карачаево-Черкесская республика', 'Чеченская республика']\n",
        "regions_republic_3 = ['Республика Адыгея', 'Республика Татарстан']\n",
        "cities = ['Москва', 'Санкт-Петербург']\n",
        "\n",
        "for k in range(len(counties['features'])):\n",
        "    if counties['features'][k]['properties']['name'] in regions_republic_1:\n",
        "        counties['features'][k]['properties']['name'] = 'Республика ' + counties['features'][k]['properties']['name']\n",
        "    if counties['features'][k]['properties']['name'] in regions_republic_2:\n",
        "        counties['features'][k]['properties']['name'] = counties['features'][k]['properties']['name'].title()\n",
        "    if counties['features'][k]['properties']['name'] in regions_republic_3:\n",
        "        counties['features'][k]['properties']['name'] = counties['features'][k]['properties']['name'] + f\" ({counties['features'][k]['properties']['name'].split()[1]})\"\n",
        "    if counties['features'][k]['properties']['name'] in cities:\n",
        "        counties['features'][k]['properties']['name'] = 'Город ' + counties['features'][k]['properties']['name']\n",
        "    if counties['features'][k]['properties']['name'] == 'Республика Чувашия':\n",
        "        counties['features'][k]['properties']['name'] = 'Чувашская Республика - Чувашия'\n",
        "    if counties['features'][k]['properties']['name'] in region_names:\n",
        "        counties['features'][k]['properties']['name'] = region_names[counties['features'][k]['properties']['name']]\n",
        "\n",
        "for k in range(len(counties['features'])):\n",
        "    counties['features'][k]['id'] = int(pd.read_sql_query(f\"SELECT region_id FROM region WHERE region_name = '{counties['features'][k]['properties']['name']}'\", connection)['region_id'][0])\n",
        "\n",
        "with open('russia.geojson', 'w', encoding='utf-8') as f:\n",
        "    json.dump(counties, f)"
      ],
      "metadata": {
        "id": "uin1yqeSeUFx"
      },
      "execution_count": 100,
      "outputs": []
    }
  ],
  "metadata": {
    "colab": {
      "provenance": []
    },
    "kernelspec": {
      "display_name": "Python 3",
      "name": "python3"
    },
    "language_info": {
      "name": "python"
    }
  },
  "nbformat": 4,
  "nbformat_minor": 0
}