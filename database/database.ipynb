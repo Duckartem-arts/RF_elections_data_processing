{
  "cells": [
    {
      "cell_type": "markdown",
      "source": [
        "#Президентские выборы"
      ],
      "metadata": {
        "id": "yt3JBWAG6VRb"
      }
    },
    {
      "cell_type": "code",
      "execution_count": 13,
      "metadata": {
        "id": "jhhP30Q106Ca"
      },
      "outputs": [],
      "source": [
        "import pandas as pd\n",
        "import numpy as np\n",
        "import sqlite3\n",
        "pd.options.mode.chained_assignment = None"
      ]
    },
    {
      "cell_type": "code",
      "source": [
        "region_names = {'Сумма': 'Вся Россия',\n",
        "                'ЦИК России': 'Вся Россия',\n",
        "                'Камчатская область': 'Камчатский край',\n",
        "                'Пермская область': 'Пермский край',\n",
        "                'Читинская область': 'Забайкальский край',\n",
        "                'город Москва': 'Город Москва',\n",
        "                'город Санкт-Петербург': 'Город Санкт-Петербург',\n",
        "                'Агинский Бурятский автономный округ': 'Забайкальский край',\n",
        "                'Коми-Пермяцкий автономный округ': 'Пермский край',\n",
        "                'Корякский автономный округ': 'Камчатский край',\n",
        "                'Таймырский (Долгано-Ненецкий) автономный округ': 'Красноярский край',\n",
        "                'Усть-Ордынский Бурятский автономный округ': 'Иркутская область',\n",
        "                'Эвенкийский автономный округ': 'Красноярский край',\n",
        "                'Чувашская Республика': 'Чувашская Республика - Чувашия',\n",
        "                'Ханты-Мансийский автономный округ': 'Ханты-Мансийский автономный округ - Югра'}"
      ],
      "metadata": {
        "id": "7149msE5_VZi"
      },
      "execution_count": 14,
      "outputs": []
    },
    {
      "cell_type": "code",
      "execution_count": 15,
      "metadata": {
        "id": "DjD7_KQH4oqD"
      },
      "outputs": [],
      "source": [
        "p_elections_2004_alldata = pd.read_csv('Результаты_выборов_президента_2004.csv', sep=';')\n",
        "p_elections_2004_alldata['district_name'] = p_elections_2004_alldata['district_name'].map(\n",
        "    lambda x: region_names[x.strip()] if x.strip() in region_names else x.strip())\n",
        "p_elections_2004_alldata = p_elections_2004_alldata.groupby('district_name', as_index=False).sum()\n",
        "\n",
        "p_elections_2004_region = p_elections_2004_alldata.iloc[:, [0, 1]]\n",
        "p_elections_2004_region.columns = ['region', 'voters']\n",
        "p_elections_2004_region['came'] = p_elections_2004_alldata.iloc[:, 3] + p_elections_2004_alldata.iloc[:,\n",
        "                                                                        4] + p_elections_2004_alldata.iloc[:, 5]\n",
        "p_elections_2004_region['voted'] = p_elections_2004_alldata.iloc[:, 9] + p_elections_2004_alldata.iloc[:, 10]\n",
        "p_elections_2004_region['year'] = 2004\n",
        "\n",
        "p_elections_2004_candidate = pd.DataFrame(\n",
        "    {'region': [], 'candidate': [], 'votes': np.array([]).astype(int), 'year': np.array([]).astype(int)})\n",
        "for column in p_elections_2004_alldata.columns[-7:]:\n",
        "    p_elections_2004_candidate = pd.concat([p_elections_2004_candidate, pd.DataFrame(\n",
        "        {'region': p_elections_2004_alldata['district_name'], 'candidate': [column] * len(p_elections_2004_alldata),\n",
        "         'votes': p_elections_2004_alldata[column], 'year': [2004] * len(p_elections_2004_alldata)})])"
      ]
    },
    {
      "cell_type": "code",
      "execution_count": 16,
      "metadata": {
        "id": "5bWshLyhTOXE"
      },
      "outputs": [],
      "source": [
        "p_elections_2008_alldata = pd.read_csv('Результаты_выборов_президента_2008.csv', sep=';')\n",
        "p_elections_2008_alldata['district_name'] = p_elections_2008_alldata['district_name'].map(\n",
        "    lambda x: region_names[x.strip()] if x.strip() in region_names else x.strip())\n",
        "p_elections_2008_alldata = p_elections_2008_alldata.groupby('district_name', as_index=False).sum()\n",
        "\n",
        "p_elections_2008_region = p_elections_2008_alldata.iloc[:, [0, 1]]\n",
        "p_elections_2008_region.columns = ['region', 'voters']\n",
        "p_elections_2008_region['came'] = p_elections_2008_alldata.iloc[:, 3] + p_elections_2008_alldata.iloc[:,\n",
        "                                                                        4] + p_elections_2008_alldata.iloc[:, 5]\n",
        "p_elections_2008_region['voted'] = p_elections_2008_alldata.iloc[:, 9] + p_elections_2008_alldata.iloc[:, 10]\n",
        "p_elections_2008_region['year'] = 2008\n",
        "\n",
        "p_elections_2008_candidate = pd.DataFrame(\n",
        "    {'region': [], 'candidate': [], 'votes': np.array([]).astype(int), 'year': np.array([]).astype(int)})\n",
        "for column in p_elections_2008_alldata.columns[-4:]:\n",
        "    p_elections_2008_candidate = pd.concat([p_elections_2008_candidate, pd.DataFrame(\n",
        "        {'region': p_elections_2008_alldata['district_name'], 'candidate': [column] * len(p_elections_2008_alldata),\n",
        "         'votes': p_elections_2008_alldata[column], 'year': [2008] * len(p_elections_2008_alldata)})])"
      ]
    },
    {
      "cell_type": "code",
      "execution_count": 17,
      "metadata": {
        "id": "WRLJ9ywE08CR"
      },
      "outputs": [],
      "source": [
        "p_elections_2012_alldata = pd.read_csv('Результаты_выборов_президента_2012.csv', sep=';')\n",
        "p_elections_2012_alldata['district name'] = p_elections_2012_alldata['district name'].map(\n",
        "    lambda x: region_names[x.strip()] if x.strip() in region_names else x.strip())\n",
        "p_elections_2012_alldata = p_elections_2012_alldata.groupby('district name', as_index=False).sum()\n",
        "\n",
        "p_elections_2012_region = p_elections_2012_alldata.iloc[:, [0, 2]]\n",
        "p_elections_2012_region.columns = ['region', 'voters']\n",
        "p_elections_2012_region['came'] = p_elections_2012_alldata.iloc[:, 4] + p_elections_2012_alldata.iloc[:,\n",
        "                                                                        5] + p_elections_2012_alldata.iloc[:, 6]\n",
        "p_elections_2012_region['voted'] = p_elections_2012_alldata.iloc[:, 10] + p_elections_2012_alldata.iloc[:, 11]\n",
        "p_elections_2012_region['year'] = 2012\n",
        "\n",
        "p_elections_2012_candidate = pd.DataFrame(\n",
        "    {'region': [], 'candidate': [], 'votes': np.array([]).astype(int), 'year': np.array([]).astype(int)})\n",
        "for column in p_elections_2012_alldata.columns[-5:]:\n",
        "    p_elections_2012_candidate = pd.concat([p_elections_2012_candidate, pd.DataFrame(\n",
        "        {'region': p_elections_2012_alldata['district name'], 'candidate': [column] * len(p_elections_2012_alldata),\n",
        "         'votes': p_elections_2012_alldata[column], 'year': [2012] * len(p_elections_2012_alldata)})])"
      ]
    },
    {
      "cell_type": "code",
      "execution_count": 18,
      "metadata": {
        "id": "_j0Am3M45qip"
      },
      "outputs": [],
      "source": [
        "p_elections_2018_alldata = pd.read_csv('Результаты_выборов_президента_2018.csv', sep=';')\n",
        "p_elections_2018_alldata['district name'] = p_elections_2018_alldata['district name'].map(\n",
        "    lambda x: region_names[x.strip()] if x.strip() in region_names else x.strip())\n",
        "p_elections_2018_alldata = p_elections_2018_alldata.groupby('district name', as_index=False).sum()\n",
        "\n",
        "p_elections_2018_region = p_elections_2018_alldata.iloc[:, [0, 2]]\n",
        "p_elections_2018_region.columns = ['region', 'voters']\n",
        "p_elections_2018_region['came'] = p_elections_2018_alldata.iloc[:, 4] + p_elections_2018_alldata.iloc[:,\n",
        "                                                                        5] + p_elections_2018_alldata.iloc[:, 6]\n",
        "p_elections_2018_region['voted'] = p_elections_2018_alldata.iloc[:, 10] + p_elections_2018_alldata.iloc[:, 11]\n",
        "p_elections_2018_region['year'] = 2018\n",
        "\n",
        "p_elections_2018_candidate = pd.DataFrame(\n",
        "    {'region': [], 'candidate': [], 'votes': np.array([]).astype(int), 'year': np.array([]).astype(int)})\n",
        "for column in p_elections_2018_alldata.columns[-8:]:\n",
        "    p_elections_2018_candidate = pd.concat([p_elections_2018_candidate, pd.DataFrame(\n",
        "        {'region': p_elections_2018_alldata['district name'], 'candidate': [column] * len(p_elections_2018_alldata),\n",
        "         'votes': p_elections_2018_alldata[column], 'year': [2018] * len(p_elections_2018_alldata)})])"
      ]
    },
    {
      "cell_type": "code",
      "execution_count": 19,
      "metadata": {
        "id": "-KO54x9r-tMU"
      },
      "outputs": [],
      "source": [
        "p_elections_candidate = pd.concat(\n",
        "    [p_elections_2004_candidate, p_elections_2008_candidate, p_elections_2012_candidate, p_elections_2018_candidate])\n",
        "p_elections_region = pd.concat(\n",
        "    [p_elections_2004_region, p_elections_2008_region, p_elections_2012_region, p_elections_2018_region])"
      ]
    },
    {
      "cell_type": "markdown",
      "source": [
        "#Выборы в Госдуму"
      ],
      "metadata": {
        "id": "6sJ30ln3-maf"
      }
    },
    {
      "cell_type": "code",
      "source": [
        "parties = {\n",
        "    '1. \"ЕДИНЕНИЕ\"': 'Единение',\n",
        "    '2. \"СОЮЗ ПРАВЫХ СИЛ\"': 'Союз правых сил',\n",
        "    '3. \"РОССИЙСКАЯ ПАРТИЯ ПЕНСИОНЕРОВ И ПАРТИЯ СОЦИАЛЬНОЙ СПРАВЕДЛИВОСТИ\"': 'Блок \"Российская партия пенсионеров и Партия социальной справедливости\"',\n",
        "    '4. \"Российская демократическая партия \"ЯБЛОКО\"': 'Яблоко',\n",
        "    '5. \"За Русь Святую\"': 'За Русь Святую',\n",
        "    '6. \"Объединенная Российская партия \"Русь\"': 'Русь',\n",
        "    '7. \"Новый курс - Автомобильная Россия\"': 'Блок \"Новый курс - Автомобильная Россия\"',\n",
        "    '8. \"Народно-республиканская партия России\"': 'Народно-республиканская партия России',\n",
        "    '9. \"Российская экологическая партия \"Зеленые\"': 'Зеленые',\n",
        "    '10. \"Аграрная партия России\"': 'Аграрная партия России',\n",
        "    '11. \"Истинные патриоты России\"': 'Истинные патриоты России',\n",
        "    '12. \"НАРОДНАЯ ПАРТИЯ Российской Федерации\"': 'Народная партия России',\n",
        "    '13. \"Демократическая партия России\"': 'Демократическая партия России',\n",
        "    '14. \"Великая Россия - Евразийский Союз\"': 'Блок \"Великая Россия - Евразийский Союз\"',\n",
        "    '15. \"Партия СЛОН\"': 'Партия СЛОН',\n",
        "    '16. \"Родина\" (народно-патриотический союз)\"': 'Блок \"Родина\"',\n",
        "    '17. \"Партия Мира и Единства (ПМЕ)\"': 'Партия Мира и Единства',\n",
        "    '18. \"ЛДПР\"': 'ЛДПР',\n",
        "    '19. \"Партия Возрождения России - Российская партия ЖИЗНИ\"': 'Блок \"Партия возрождения России - Российская партия жизни\"',\n",
        "    '20. \"Политическая партия \"Единая Россия\"': 'Единая Россия',\n",
        "    '21. \"Российская Конституционно-демократическая партия\"': 'Российская Конституционно-демократическая партия',\n",
        "    '22. \"Развитие предпринимательства\"': 'Развитие предпринимательства',\n",
        "    '23. \"Коммунистическая партия Российской Федерации (КПРФ)\"': 'КПРФ',\n",
        "    'Против всех': 'Против всех',\n",
        "    '1.Политическая партия «Аграрная партия России»': 'Аграрная партия России',\n",
        "    '2.Всероссийская политическая партия «Гражданская Сила»': 'Гражданская Сила',\n",
        "    '3.Политическая партия «Демократическая партия России»': 'Демократическая партия России',\n",
        "    '4.Политическая партия «Коммунистическая партия Российской Федерации»': 'КПРФ',\n",
        "    '5.Политическая партия «СОЮЗ ПРАВЫХ СИЛ»': 'Союз правых сил',\n",
        "    '6.Политическая партия «Партия социальной справедливости»': 'Партия социальной справедливости',\n",
        "    '7.Политическая партия «Либерально-демократическая партия России»': 'ЛДПР',\n",
        "    '8.Политическая партия «СПРАВЕДЛИВАЯ РОССИЯ: РОДИНА/ПЕНСИОНЕРЫ/ЖИЗНЬ»': 'Справедливая Россия',\n",
        "    '9.Политическая партия «ПАТРИОТЫ РОССИИ»': 'Патриоты России',\n",
        "    '10.Всероссийская политическая партия «ЕДИНАЯ РОССИЯ»': 'Единая Россия',\n",
        "    '11.Политическая партия «Российская объединенная демократическая партия «ЯБЛОКО»': 'Яблоко',\n",
        "    '1. Политическая партия СПРАВЕДЛИВАЯ РОССИЯ': 'Справедливая Россия',\n",
        "    '2. Политическая партия \"Либерально-демократическая партия России\"': 'ЛДПР',\n",
        "    '3. Политическая партия \"ПАТРИОТЫ РОССИИ\" ': 'Патриоты России',\n",
        "    '4. Политическая партия \"Коммунистическая партия Российской Федерации\"': 'КПРФ',\n",
        "    '5. Политическая партия \"Российская объединенная демократическая партия \"ЯБЛОКО\"': 'Яблоко',\n",
        "    '6. Всероссийская политическая партия \"ЕДИНАЯ РОССИЯ\"': 'Единая Россия',\n",
        "    '7. Всероссийская политическая партия \"ПРАВОЕ ДЕЛО\"': 'Правое дело',\n",
        "    }"
      ],
      "metadata": {
        "id": "NngufQdzQCkB"
      },
      "execution_count": 20,
      "outputs": []
    },
    {
      "cell_type": "code",
      "source": [
        "def region_name_edit(region):\n",
        "    for i in range(len(region) - 2):\n",
        "        if region[i + 1] == ' ' and region[i + 2] == '-':\n",
        "            return region[:i + 1]\n",
        "    return region"
      ],
      "metadata": {
        "id": "uSCED6XfRFp6"
      },
      "execution_count": 21,
      "outputs": []
    },
    {
      "cell_type": "code",
      "source": [
        "gd_elections_2003_alldata = pd.read_csv('Результаты_выборов_депутатов_по_фед_2003.csv', sep=';')\n",
        "gd_elections_2003_alldata['district_name'] = gd_elections_2003_alldata['district_name'].map(\n",
        "    lambda x: region_names[x.strip()] if x.strip() in region_names else x.strip())\n",
        "gd_elections_2003_alldata = gd_elections_2003_alldata.groupby('district_name', as_index=False).sum()\n",
        "\n",
        "gd_elections_2003_region = gd_elections_2003_alldata.iloc[:, [0, 1]]\n",
        "gd_elections_2003_region.columns = ['region', 'voters']\n",
        "gd_elections_2003_region['came'] = gd_elections_2003_alldata.iloc[:, 3] + gd_elections_2003_alldata.iloc[:,\n",
        "                                                                        4] + gd_elections_2003_alldata.iloc[:, 5]\n",
        "gd_elections_2003_region['voted'] = gd_elections_2003_alldata.iloc[:, 9] + gd_elections_2003_alldata.iloc[:, 10]\n",
        "gd_elections_2003_region['year'] = 2003\n",
        "\n",
        "gd_elections_2003_candidate = pd.DataFrame(\n",
        "    {'region': [], 'candidate': [], 'votes': np.array([]).astype(int), 'year': np.array([]).astype(int)})\n",
        "for column in gd_elections_2003_alldata.columns[-24:]:\n",
        "    gd_elections_2003_candidate = pd.concat([gd_elections_2003_candidate, pd.DataFrame(\n",
        "        {'region': gd_elections_2003_alldata['district_name'], 'candidate': [parties[column]] * len(gd_elections_2003_alldata),\n",
        "         'votes': gd_elections_2003_alldata[column], 'year': [2003] * len(gd_elections_2003_alldata)})])"
      ],
      "metadata": {
        "id": "4SnLepy6-r0j"
      },
      "execution_count": 22,
      "outputs": []
    },
    {
      "cell_type": "code",
      "source": [
        "gd_elections_2007_alldata = pd.read_csv('Результаты_выборов_депутатов_по_фед_2007.csv', sep=';')\n",
        "gd_elections_2007_alldata['district_name'] = gd_elections_2007_alldata['district_name'].map(lambda x: region_name_edit(x))\n",
        "gd_elections_2007_alldata['district_name'] = gd_elections_2007_alldata['district_name'].map(\n",
        "    lambda x: region_names[x.strip()] if x.strip() in region_names else x.strip())\n",
        "gd_elections_2007_alldata = gd_elections_2007_alldata.groupby('district_name', as_index=False).sum()\n",
        "\n",
        "gd_elections_2007_region = gd_elections_2007_alldata.iloc[:, [0, 1]]\n",
        "gd_elections_2007_region.columns = ['region', 'voters']\n",
        "gd_elections_2007_region['came'] = gd_elections_2007_alldata.iloc[:, 3] + gd_elections_2007_alldata.iloc[:,\n",
        "                                                                        4] + gd_elections_2007_alldata.iloc[:, 5]\n",
        "gd_elections_2007_region['voted'] = gd_elections_2007_alldata.iloc[:, 9] + gd_elections_2007_alldata.iloc[:, 10]\n",
        "gd_elections_2007_region['year'] = 2007\n",
        "\n",
        "gd_elections_2007_candidate = pd.DataFrame(\n",
        "    {'region': [], 'candidate': [], 'votes': np.array([]).astype(int), 'year': np.array([]).astype(int)})\n",
        "for column in gd_elections_2007_alldata.columns[-11:]:\n",
        "    gd_elections_2007_candidate = pd.concat([gd_elections_2007_candidate, pd.DataFrame(\n",
        "        {'region': gd_elections_2007_alldata['district_name'], 'candidate': [parties[column]] * len(gd_elections_2007_alldata),\n",
        "         'votes': gd_elections_2007_alldata[column], 'year': [2007] * len(gd_elections_2007_alldata)})])"
      ],
      "metadata": {
        "id": "CGfWHC2pQ83i"
      },
      "execution_count": 23,
      "outputs": []
    },
    {
      "cell_type": "code",
      "source": [
        "gd_elections_2011_alldata = pd.read_csv('Результаты выборов в думу 2011.csv', sep=';')\n",
        "gd_elections_2011_alldata['name'] = gd_elections_2011_alldata['name'].map(lambda x: region_name_edit(x))\n",
        "gd_elections_2011_alldata['name'] = gd_elections_2011_alldata['name'].map(\n",
        "    lambda x: region_names[x.strip()] if x.strip() in region_names else x.strip())\n",
        "gd_elections_2011_alldata = gd_elections_2011_alldata.groupby('name', as_index=False).sum()\n",
        "\n",
        "gd_elections_2011_region = gd_elections_2011_alldata.iloc[:, [0, 1]]\n",
        "gd_elections_2011_region.columns = ['region', 'voters']\n",
        "gd_elections_2011_region['came'] = gd_elections_2011_alldata.iloc[:, 3] + gd_elections_2011_alldata.iloc[:,\n",
        "                                                                        4] + gd_elections_2011_alldata.iloc[:, 5]\n",
        "gd_elections_2011_region['voted'] = gd_elections_2011_alldata.iloc[:, 9] + gd_elections_2011_alldata.iloc[:, 10]\n",
        "gd_elections_2011_region['year'] = 2011\n",
        "\n",
        "gd_elections_2011_candidate = pd.DataFrame(\n",
        "    {'region': [], 'candidate': [], 'votes': np.array([]).astype(int), 'year': np.array([]).astype(int)})\n",
        "for column in gd_elections_2011_alldata.columns[-7:]:\n",
        "    gd_elections_2011_candidate = pd.concat([gd_elections_2011_candidate, pd.DataFrame(\n",
        "        {'region': gd_elections_2011_alldata['name'], 'candidate': [parties[column]] * len(gd_elections_2011_alldata),\n",
        "         'votes': gd_elections_2011_alldata[column], 'year': [2011] * len(gd_elections_2011_alldata)})])"
      ],
      "metadata": {
        "id": "RNY0ob0XR1F4"
      },
      "execution_count": 24,
      "outputs": []
    },
    {
      "cell_type": "code",
      "source": [
        "gd_elections_candidate = pd.concat(\n",
        "    [gd_elections_2003_candidate, gd_elections_2007_candidate, gd_elections_2011_candidate])\n",
        "gd_elections_region = pd.concat(\n",
        "    [gd_elections_2003_region, gd_elections_2007_region, gd_elections_2011_region])"
      ],
      "metadata": {
        "id": "ZZHIJfZ5V84l"
      },
      "execution_count": 25,
      "outputs": []
    },
    {
      "cell_type": "markdown",
      "source": [
        "#Создание базы данных"
      ],
      "metadata": {
        "id": "KtNL9BuS78hp"
      }
    },
    {
      "cell_type": "code",
      "execution_count": 26,
      "metadata": {
        "id": "V0tcU8u1GH8v"
      },
      "outputs": [],
      "source": [
        "connection = sqlite3.connect(\"elections.db\")\n",
        "cursor = connection.cursor()"
      ]
    },
    {
      "cell_type": "code",
      "execution_count": 27,
      "metadata": {
        "id": "XqOBAfp2UzI3"
      },
      "outputs": [],
      "source": [
        "cursor.execute(\"\"\"\n",
        "CREATE TABLE region(region_id INTEGER PRIMARY KEY AUTOINCREMENT, region_name VARCHAR(100))\n",
        "\"\"\")\n",
        "for r in pd.concat([p_elections_region, gd_elections_region])['region'].unique():\n",
        "    cursor.execute(f\"\"\"\n",
        "    INSERT INTO region(region_name)\n",
        "    VALUES ('{r}')\n",
        "    \"\"\")"
      ]
    },
    {
      "cell_type": "code",
      "execution_count": 28,
      "metadata": {
        "id": "i2tZflVEYcKD"
      },
      "outputs": [],
      "source": [
        "cursor.execute(\"\"\"\n",
        "CREATE TABLE p_candidate(candidate_id INTEGER PRIMARY KEY AUTOINCREMENT, candidate_name VARCHAR(100))\n",
        "\"\"\")\n",
        "for c in p_elections_candidate['candidate'].unique():\n",
        "    cursor.execute(f\"\"\"\n",
        "    INSERT INTO p_candidate(candidate_name)\n",
        "    VALUES ('{c}')\n",
        "    \"\"\")"
      ]
    },
    {
      "cell_type": "code",
      "source": [
        "cursor.execute(\"\"\"\n",
        "CREATE TABLE gd_candidate(candidate_id INTEGER PRIMARY KEY AUTOINCREMENT, candidate_name VARCHAR(100))\n",
        "\"\"\")\n",
        "for c in gd_elections_candidate['candidate'].unique():\n",
        "    cursor.execute(f\"\"\"\n",
        "    INSERT INTO gd_candidate(candidate_name)\n",
        "    VALUES ('{c}')\n",
        "    \"\"\")"
      ],
      "metadata": {
        "id": "GbXK6EsvYAKm"
      },
      "execution_count": 29,
      "outputs": []
    },
    {
      "cell_type": "code",
      "execution_count": 30,
      "metadata": {
        "id": "mQksS4yIGM2W"
      },
      "outputs": [],
      "source": [
        "cursor.execute(\"\"\"\n",
        "CREATE TABLE president_elections_cand(id INTEGER PRIMARY KEY AUTOINCREMENT, region_id INT, candidate_id INT, votes INT, year INT, FOREIGN KEY (region_id)  REFERENCES region (region_id) ON DELETE CASCADE, FOREIGN KEY (candidate_id)  REFERENCES p_candidate (candidate_id) ON DELETE CASCADE)\n",
        "\"\"\")\n",
        "for i in range(len(p_elections_candidate)):\n",
        "    cursor.execute(f\"\"\"\n",
        "    INSERT INTO president_elections_cand(region_id, candidate_id, votes, year)\n",
        "    VALUES ((SELECT region_id FROM region WHERE region_name = '{p_elections_candidate.iloc[i]['region']}'), (SELECT candidate_id FROM p_candidate WHERE candidate_name = '{p_elections_candidate.iloc[i]['candidate']}'), {p_elections_candidate.iloc[i]['votes']}, {p_elections_candidate.iloc[i]['year']})\n",
        "    \"\"\")"
      ]
    },
    {
      "cell_type": "code",
      "source": [
        "cursor.execute(\"\"\"\n",
        "CREATE TABLE gd_elections_cand(id INTEGER PRIMARY KEY AUTOINCREMENT, region_id INT, candidate_id INT, votes INT, year INT, FOREIGN KEY (region_id)  REFERENCES region (region_id) ON DELETE CASCADE, FOREIGN KEY (candidate_id)  REFERENCES gd_candidate (candidate_id) ON DELETE CASCADE)\n",
        "\"\"\")\n",
        "for i in range(len(gd_elections_candidate)):\n",
        "    cursor.execute(f\"\"\"\n",
        "    INSERT INTO gd_elections_cand(region_id, candidate_id, votes, year)\n",
        "    VALUES ((SELECT region_id FROM region WHERE region_name = '{gd_elections_candidate.iloc[i]['region']}'), (SELECT candidate_id FROM gd_candidate WHERE candidate_name = '{gd_elections_candidate.iloc[i]['candidate']}'), {gd_elections_candidate.iloc[i]['votes']}, {gd_elections_candidate.iloc[i]['year']})\n",
        "    \"\"\")"
      ],
      "metadata": {
        "id": "ow-dC2ngYP-A"
      },
      "execution_count": 31,
      "outputs": []
    },
    {
      "cell_type": "code",
      "execution_count": 32,
      "metadata": {
        "id": "-KDF6N-KUG1u"
      },
      "outputs": [],
      "source": [
        "cursor.execute(\"\"\"\n",
        "CREATE TABLE president_elections_region(id INTEGER PRIMARY KEY, region_id INT, voters INT, came INT, voted INT, year INT, FOREIGN KEY (region_id)  REFERENCES region (region_id) ON DELETE CASCADE)\n",
        "\"\"\")\n",
        "for i in range(len(p_elections_region)):\n",
        "    cursor.execute(f\"\"\"\n",
        "    INSERT INTO president_elections_region(region_id, voters, came, voted, year)\n",
        "    VALUES ((SELECT region_id FROM region WHERE region_name = '{p_elections_region.iloc[i]['region']}'), {p_elections_region.iloc[i]['voters']},  {p_elections_region.iloc[i]['came']},  {p_elections_region.iloc[i]['voted']},  {p_elections_region.iloc[i]['year']})\n",
        "    \"\"\")"
      ]
    },
    {
      "cell_type": "code",
      "source": [
        "cursor.execute(\"\"\"\n",
        "CREATE TABLE gd_elections_region(id INTEGER PRIMARY KEY, region_id INT, voters INT, came INT, voted INT, year INT, FOREIGN KEY (region_id)  REFERENCES region (region_id) ON DELETE CASCADE)\n",
        "\"\"\")\n",
        "for i in range(len(gd_elections_region)):\n",
        "    cursor.execute(f\"\"\"\n",
        "    INSERT INTO gd_elections_region(region_id, voters, came, voted, year)\n",
        "    VALUES ((SELECT region_id FROM region WHERE region_name = '{gd_elections_region.iloc[i]['region']}'), {gd_elections_region.iloc[i]['voters']},  {gd_elections_region.iloc[i]['came']},  {gd_elections_region.iloc[i]['voted']},  {gd_elections_region.iloc[i]['year']})\n",
        "    \"\"\")"
      ],
      "metadata": {
        "id": "nEf0gC9dZIOO"
      },
      "execution_count": 33,
      "outputs": []
    },
    {
      "cell_type": "code",
      "execution_count": 34,
      "metadata": {
        "id": "nGeLFdie4AbE"
      },
      "outputs": [],
      "source": [
        "connection.commit()"
      ]
    },
    {
      "cell_type": "markdown",
      "source": [
        "#JSON для карты России"
      ],
      "metadata": {
        "id": "UKn_1fFKcXlz"
      }
    },
    {
      "cell_type": "code",
      "source": [
        "import json\n",
        "import pandas as pd\n",
        "import plotly as plt\n",
        "import plotly.express as px\n",
        "from urllib.request import urlopen"
      ],
      "metadata": {
        "id": "cpTPC7maeEZA"
      },
      "execution_count": 35,
      "outputs": []
    },
    {
      "cell_type": "code",
      "source": [
        "with urlopen('https://raw.githubusercontent.com/codeforamerica/click_that_hood/master/public/data/russia.geojson') as response:\n",
        "    counties = json.load(response)\n",
        "\n",
        "regions_republic_1 = ['Бурятия', 'Тыва', 'Адыгея', 'Татарстан', 'Марий Эл',\n",
        "                      'Чувашия', 'Северная Осетия - Алания', 'Алтай',\n",
        "                      'Дагестан', 'Ингушетия', 'Башкортостан']\n",
        "regions_republic_2 = ['Удмуртская республика', 'Кабардино-Балкарская республика',\n",
        "                      'Карачаево-Черкесская республика', 'Чеченская республика']\n",
        "regions_republic_3 = ['Республика Адыгея', 'Республика Татарстан']\n",
        "cities = ['Москва', 'Санкт-Петербург']\n",
        "\n",
        "for k in range(len(counties['features'])):\n",
        "    if counties['features'][k]['properties']['name'] in regions_republic_1:\n",
        "        counties['features'][k]['properties']['name'] = 'Республика ' + counties['features'][k]['properties']['name']\n",
        "    if counties['features'][k]['properties']['name'] in regions_republic_2:\n",
        "        counties['features'][k]['properties']['name'] = counties['features'][k]['properties']['name'].title()\n",
        "    if counties['features'][k]['properties']['name'] in regions_republic_3:\n",
        "        counties['features'][k]['properties']['name'] = counties['features'][k]['properties']['name'] + f\" ({counties['features'][k]['properties']['name'].split()[1]})\"\n",
        "    if counties['features'][k]['properties']['name'] in cities:\n",
        "        counties['features'][k]['properties']['name'] = 'Город ' + counties['features'][k]['properties']['name']\n",
        "    if counties['features'][k]['properties']['name'] == 'Республика Чувашия':\n",
        "        counties['features'][k]['properties']['name'] = 'Чувашская Республика - Чувашия'\n",
        "\n",
        "for k in range(len(counties['features'])):\n",
        "    counties['features'][k]['id'] = int(pd.read_sql_query(f\"SELECT region_id FROM region WHERE region_name = '{counties['features'][k]['properties']['name']}'\", connection)['region_id'][0])\n",
        "\n",
        "with open('russia.geojson', 'w', encoding='utf-8') as f:\n",
        "    json.dump(counties, f)"
      ],
      "metadata": {
        "id": "uin1yqeSeUFx"
      },
      "execution_count": 36,
      "outputs": []
    }
  ],
  "metadata": {
    "colab": {
      "provenance": []
    },
    "kernelspec": {
      "display_name": "Python 3",
      "name": "python3"
    },
    "language_info": {
      "name": "python"
    }
  },
  "nbformat": 4,
  "nbformat_minor": 0
}